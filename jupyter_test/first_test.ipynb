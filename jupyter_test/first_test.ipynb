{
 "cells": [
  {
   "cell_type": "code",
   "execution_count": 1,
   "metadata": {},
   "outputs": [],
   "source": [
    "import pandas as pd\n",
    "import multiprocessing\n",
    "from multiprocessing import Pool"
   ]
  },
  {
   "cell_type": "code",
   "execution_count": 2,
   "metadata": {},
   "outputs": [],
   "source": [
    "# Load the data\n",
    "\n",
    "DATABASE_PATH = 'data/model_fraud_resume.csv'\n",
    "df = pd.read_csv(DATABASE_PATH)"
   ]
  },
  {
   "cell_type": "code",
   "execution_count": 3,
   "metadata": {},
   "outputs": [],
   "source": [
    "# Copy of the original dataframe to compare the results\n",
    "\n",
    "df_original = df.copy()"
   ]
  },
  {
   "cell_type": "code",
   "execution_count": 4,
   "metadata": {},
   "outputs": [],
   "source": [
    "#ENRICHMENT\n",
    "# Create a new column with the difference between the initial balance and the amount of the transaction\n",
    "\n",
    "df['deltaOrigen'] = (df['saldoInicialOrigen'] -df['monto']).abs()"
   ]
  },
  {
   "cell_type": "code",
   "execution_count": 5,
   "metadata": {},
   "outputs": [],
   "source": [
    "# ALGORITHM FOR RETIROS\n",
    "# first rule: if the transaction is a retiro, check if there is a transfer with the same amount in the last 3 time units\n",
    "\n",
    "def check_for_retiro(row, df:pd.DataFrame):\n",
    "    tiempo = row['unidadTiempo'] \n",
    "    tipo_transaccion=row['tipoTransaccion']\n",
    "    monto_transaccion = row['monto']\n",
    "    saldo_inicial_origen = row['saldoInicialOrigen']\n",
    "    \n",
    "    if tipo_transaccion == 'Retiro':    \n",
    "        df = df[df['tipoTransaccion'] == 'Transferencia']\n",
    "        df = df[(df['unidadTiempo'] == tiempo) | (df['unidadTiempo'] == tiempo-1) | (df['unidadTiempo'] == tiempo-2)]\n",
    "        df = df[df['monto'] == monto_transaccion]\n",
    "        \n",
    "        if len(df) > 0:\n",
    "            return 1\n",
    "        \n",
    "    return 0\n",
    "\n",
    "        "
   ]
  },
  {
   "cell_type": "code",
   "execution_count": 6,
   "metadata": {},
   "outputs": [],
   "source": [
    "# ALGORITHM FOR TRANSFERENCIAS\n",
    "# first rule: if the transaction is a transferencia, check if the deltaOrigen is 0 \n",
    "\n",
    "def check_for_transferencia(row):\n",
    "    tipo_transaccion=row['tipoTransaccion']\n",
    "    delta_origen = row['deltaOrigen']\n",
    "    saldo_inicial_destinatario = row['saldoInicialDestinatario']\n",
    "    saldo_final_destinatario = row['saldoFinalDestinatario']\n",
    "    saldo_final_origen = row['saldoFinalOrigen']\n",
    "    \n",
    "    if tipo_transaccion == 'Transferencia':\n",
    "        if delta_origen == 0:\n",
    "            #if saldo_inicial_destinatario == 0 and saldo_final_destinatario == 0 and saldo_final_origen == 0:\n",
    "                return 1\n",
    "    \n",
    "    return 0"
   ]
  },
  {
   "cell_type": "code",
   "execution_count": 7,
   "metadata": {},
   "outputs": [],
   "source": [
    "# NEW COLUMN WITH THE RESULTS OF THE ALGORITHMS\n",
    "\n",
    "df['marca_fraude_proyectada'] = 0"
   ]
  },
  {
   "cell_type": "code",
   "execution_count": 8,
   "metadata": {},
   "outputs": [],
   "source": [
    "# Data frame just for retiro and transferencia\n",
    "df_retiro = df[df['tipoTransaccion'] == 'Retiro']\n",
    "df_transferencia = df[df['tipoTransaccion'] == 'Transferencia']"
   ]
  },
  {
   "cell_type": "code",
   "execution_count": 9,
   "metadata": {},
   "outputs": [
    {
     "name": "stdout",
     "output_type": "stream",
     "text": [
      "number of frauds projected for Transferencias: 32\n",
      "number of discrepancies for Transferencias: 1\n"
     ]
    }
   ],
   "source": [
    "# Run the algorithms for 'Transferencia' for each row in the dataframe\n",
    "\n",
    "i = 0\n",
    "for index, row in df_transferencia.iterrows():\n",
    "    marca: float = check_for_transferencia(row)\n",
    "    df.at[index, 'marca_fraude_proyectada'] = marca\n",
    "    i += marca\n",
    "\n",
    "df_discrepancias_transferencia = df[(df['marca_fraude'] != df['marca_fraude_proyectada']) & (df['tipoTransaccion'] == 'Transferencia')]   \n",
    "print('number of frauds projected for Transferencias:', i)   \n",
    "print('number of discrepancies for Transferencias:', len(df_discrepancias_transferencia))"
   ]
  },
  {
   "cell_type": "code",
   "execution_count": 10,
   "metadata": {},
   "outputs": [
    {
     "name": "stdout",
     "output_type": "stream",
     "text": [
      "number of frauds projected for Retiros: 33\n",
      "number of discrepancies for Retiros: 2\n"
     ]
    }
   ],
   "source": [
    "# Run the algorithms for 'Retiro' for each row in the dataframe\n",
    "\n",
    "i = 0\n",
    "for index, row in df_retiro.iterrows():\n",
    "    marca = check_for_retiro(row, df_transferencia)\n",
    "    df.at[index, 'marca_fraude_proyectada'] = marca\n",
    "    i += marca\n",
    "     \n",
    "df_discrepancias_retiro = df[(df['marca_fraude'] != df['marca_fraude_proyectada']) & (df['tipoTransaccion'] == 'Retiro')] \n",
    "\n",
    "print('number of frauds projected for Retiros:', i)\n",
    "print('number of discrepancies for Retiros:', len(df_discrepancias_retiro))"
   ]
  }
 ],
 "metadata": {
  "kernelspec": {
   "display_name": "Python 3",
   "language": "python",
   "name": "python3"
  },
  "language_info": {
   "codemirror_mode": {
    "name": "ipython",
    "version": 3
   },
   "file_extension": ".py",
   "mimetype": "text/x-python",
   "name": "python",
   "nbconvert_exporter": "python",
   "pygments_lexer": "ipython3",
   "version": "3.12.0"
  }
 },
 "nbformat": 4,
 "nbformat_minor": 2
}

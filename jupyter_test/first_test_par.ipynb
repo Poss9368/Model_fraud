{
 "cells": [
  {
   "cell_type": "code",
   "execution_count": 1,
   "metadata": {},
   "outputs": [],
   "source": [
    "import pandas as pd\n",
    "import multiprocessing\n",
    "from multiprocessing import Pool\n",
    "import numpy as np\n"
   ]
  },
  {
   "cell_type": "code",
   "execution_count": 2,
   "metadata": {},
   "outputs": [],
   "source": [
    "# Load the data\n",
    "\n",
    "DATABASE_PATH = 'data/model_fraud_resume.csv'\n",
    "df = pd.read_csv(DATABASE_PATH)"
   ]
  },
  {
   "cell_type": "code",
   "execution_count": 3,
   "metadata": {},
   "outputs": [],
   "source": [
    "# Copy of the original dataframe to compare the results\n",
    "\n",
    "df_original = df.copy()"
   ]
  },
  {
   "cell_type": "code",
   "execution_count": 4,
   "metadata": {},
   "outputs": [],
   "source": [
    "#ENRICHMENT\n",
    "# Create a new column with the difference between the initial balance and the amount of the transaction\n",
    "\n",
    "df['deltaOrigen'] = (df['saldoInicialOrigen'] -df['monto']).abs()"
   ]
  },
  {
   "cell_type": "code",
   "execution_count": 5,
   "metadata": {},
   "outputs": [],
   "source": [
    "# ALGORITHM FOR RETIROS\n",
    "# first rule: if the transaction is a retiro, check if there is a transfer with the same amount in the last 3 time units\n",
    "\n",
    "def check_for_retiro(row, df:pd.DataFrame):\n",
    "    tiempo = row['unidadTiempo'] \n",
    "    tipo_transaccion=row['tipoTransaccion']\n",
    "    monto_transaccion = row['monto']\n",
    "    saldo_inicial_origen = row['saldoInicialOrigen']\n",
    "    \n",
    "    if tipo_transaccion == 'Retiro':    \n",
    "        df = df[df['tipoTransaccion'] == 'Transferencia']\n",
    "        df = df[(df['unidadTiempo'] == tiempo) | (df['unidadTiempo'] == tiempo-1) | (df['unidadTiempo'] == tiempo-2)]\n",
    "        df = df[df['monto'] == monto_transaccion]\n",
    "        \n",
    "        if len(df) > 0:\n",
    "            return 1\n",
    "        \n",
    "    return 0\n",
    "\n",
    "        "
   ]
  },
  {
   "cell_type": "code",
   "execution_count": 6,
   "metadata": {},
   "outputs": [],
   "source": [
    "# ALGORITHM FOR TRANSFERENCIAS\n",
    "# first rule: if the transaction is a transferencia, check if the deltaOrigen is 0 \n",
    "\n",
    "def check_for_transferencia(row):\n",
    "    tipo_transaccion=row['tipoTransaccion']\n",
    "    delta_origen = row['deltaOrigen']\n",
    "    saldo_inicial_destinatario = row['saldoInicialDestinatario']\n",
    "    saldo_final_destinatario = row['saldoFinalDestinatario']\n",
    "    saldo_final_origen = row['saldoFinalOrigen']\n",
    "    \n",
    "    if tipo_transaccion == 'Transferencia':\n",
    "        if delta_origen == 0:\n",
    "            #if saldo_inicial_destinatario == 0 and saldo_final_destinatario == 0 and saldo_final_origen == 0:\n",
    "                return 1\n",
    "    \n",
    "    return 0"
   ]
  },
  {
   "cell_type": "code",
   "execution_count": 7,
   "metadata": {},
   "outputs": [],
   "source": [
    "# NEW COLUMN WITH THE RESULTS OF THE ALGORITHMS\n",
    "\n",
    "df['marca_fraude_proyectada'] = 0"
   ]
  },
  {
   "cell_type": "code",
   "execution_count": 8,
   "metadata": {},
   "outputs": [],
   "source": [
    "# Data frame just for retiro and transferencia\n",
    "df_retiro = df[df['tipoTransaccion'] == 'Retiro']\n",
    "df_transferencia = df[df['tipoTransaccion'] == 'Transferencia']"
   ]
  },
  {
   "cell_type": "code",
   "execution_count": 9,
   "metadata": {},
   "outputs": [],
   "source": [
    "def apply_check_for_transferencia(df_transferencia):\n",
    "    result = []\n",
    "    for index, row in df_transferencia.iterrows():\n",
    "        marca = check_for_transferencia(row)\n",
    "        if marca == 1:\n",
    "            result.append(index)\n",
    "    return result\n",
    "        \n"
   ]
  },
  {
   "cell_type": "code",
   "execution_count": 11,
   "metadata": {},
   "outputs": [
    {
     "name": "stdout",
     "output_type": "stream",
     "text": [
      "[2, 251, 680, 969, 1115, 1869, 2301, 3059, 3162, 3271, 3683, 4103, 4260, 4442, 4667, 4693, 4775, 4857, 5123, 5466, 5558, 5746, 5852, 5994, 6583, 6702, 6706, 6897, 7002, 7029, 7154, 9284]\n"
     ]
    }
   ],
   "source": [
    "print(apply_check_for_transferencia(df_transferencia))\n",
    "\n",
    "df_transferencia_split = [df_transferencia.iloc[i:i+1000] for i in range(0, len(df_transferencia), 1000)]\n",
    "\n",
    "\n",
    "with Pool(4) as p:\n",
    "    result = p.map(apply_check_for_transferencia, df_transferencia_split)\n",
    "\n"
   ]
  }
 ],
 "metadata": {
  "kernelspec": {
   "display_name": "Python 3",
   "language": "python",
   "name": "python3"
  },
  "language_info": {
   "codemirror_mode": {
    "name": "ipython",
    "version": 3
   },
   "file_extension": ".py",
   "mimetype": "text/x-python",
   "name": "python",
   "nbconvert_exporter": "python",
   "pygments_lexer": "ipython3",
   "version": "3.12.0"
  }
 },
 "nbformat": 4,
 "nbformat_minor": 2
}
